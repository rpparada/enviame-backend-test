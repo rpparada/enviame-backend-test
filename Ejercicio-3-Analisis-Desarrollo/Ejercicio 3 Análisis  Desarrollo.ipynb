{
 "cells": [
  {
   "cell_type": "markdown",
   "metadata": {},
   "source": [
    "# Ejercicio 3: Análisis + Desarrollo\n",
    "### Crea un script en el lenguaje de tu elección y encuentra la cadena de texto que es igual al revés en el siguiente texto:\n",
    "\n",
    "'afoolishconsistencyisthehobgoblinoflittlemindsadoredbylittlestatesmenandphilosophersanddivineswithconsistencyagreatsoulhassimplynothingtodohemayaswellconcernhimselfwithhisshadowonthewallspeakwhatyouthinknowinhardwordsandtomorrowspeakwhattomorrowthinksinhardwordsagainthoughitcontradicteverythingyousaidtodayahsoyoushallbesuretobemisunderstoodisitsobadthentobemisunderstoodpythagoraswasmisunderstoodandsocratesandjesusandlutherandcopernicusandgalileoandnewtonandeverypureandwisespiritthatevertookfleshtobegreatistobemisunderstood'"
   ]
  },
  {
   "cell_type": "code",
   "execution_count": 1,
   "metadata": {},
   "outputs": [],
   "source": [
    "texto = 'afoolishconsistencyisthehobgoblinoflittlemindsadoredbylittlestatesmenandphilosophersanddivineswithconsistencyagreatsoulhassimplynothingtodohemayaswellconcernhimselfwithhisshadowonthewallspeakwhatyouthinknowinhardwordsandtomorrowspeakwhattomorrowthinksinhardwordsagainthoughitcontradicteverythingyousaidtodayahsoyoushallbesuretobemisunderstoodisitsobadthentobemisunderstoodpythagoraswasmisunderstoodandsocratesandjesusandlutherandcopernicusandgalileoandnewtonandeverypureandwisespiritthatevertookfleshtobegreatistobemisunderstood'"
   ]
  },
  {
   "cell_type": "code",
   "execution_count": 2,
   "metadata": {},
   "outputs": [
    {
     "data": {
      "text/plain": [
       "'afoolishconsistencyisthehobgoblinoflittlemindsadoredbylittlestatesmenandphilosophersanddivineswithconsistencyagreatsoulhassimplynothingtodohemayaswellconcernhimselfwithhisshadowonthewallspeakwhatyouthinknowinhardwordsandtomorrowspeakwhattomorrowthinksinhardwordsagainthoughitcontradicteverythingyousaidtodayahsoyoushallbesuretobemisunderstoodisitsobadthentobemisunderstoodpythagoraswasmisunderstoodandsocratesandjesusandlutherandcopernicusandgalileoandnewtonandeverypureandwisespiritthatevertookfleshtobegreatistobemisunderstood'"
      ]
     },
     "execution_count": 2,
     "metadata": {},
     "output_type": "execute_result"
    }
   ],
   "source": [
    "texto"
   ]
  },
  {
   "cell_type": "markdown",
   "metadata": {},
   "source": [
    "## Para dar vuelta en texto en python podemos utilizar \"Indexing and Slicing\" en strings"
   ]
  },
  {
   "cell_type": "code",
   "execution_count": 3,
   "metadata": {},
   "outputs": [
    {
     "data": {
      "text/plain": [
       "'dootsrednusimebotsitaergebothselfkootrevetahttiripsesiwdnaerupyrevednanotwendnaoelilagdnasucinrepocdnarehtuldnasusejdnasetarcosdnadootsrednusimsawsarogahtypdootsrednusimebotnehtdabostisidootsrednusimeboterusebllahsuoyoshayadotdiasuoygnihtyrevetcidartnoctihguohtniagasdrowdrahnisknihtworromottahwkaepsworromotdnasdrowdrahniwonknihtuoytahwkaepsllawehtnowodahssihhtiwflesmihnrecnocllewsayamehodotgnihtonylpmissahluostaergaycnetsisnochtiwsenividdnasrehposolihpdnanemsetatselttilybderodasdnimelttilfonilbogbohehtsiycnetsisnochsiloofa'"
      ]
     },
     "execution_count": 3,
     "metadata": {},
     "output_type": "execute_result"
    }
   ],
   "source": [
    "texto[::-1]"
   ]
  },
  {
   "cell_type": "markdown",
   "metadata": {},
   "source": [
    "## Tambien podemos desarrollar nuestra propia funcion"
   ]
  },
  {
   "cell_type": "code",
   "execution_count": 4,
   "metadata": {},
   "outputs": [],
   "source": [
    "def dar_vuelta_texto(texto=''):\n",
    "    index = len(texto)\n",
    "    output = ''\n",
    "    for idx in range(index):\n",
    "        output += texto[index-1-idx]\n",
    "    \n",
    "    return output"
   ]
  },
  {
   "cell_type": "code",
   "execution_count": 5,
   "metadata": {},
   "outputs": [],
   "source": [
    "salida = dar_vuelta_texto('prueba')"
   ]
  },
  {
   "cell_type": "code",
   "execution_count": 6,
   "metadata": {},
   "outputs": [
    {
     "data": {
      "text/plain": [
       "'abeurp'"
      ]
     },
     "execution_count": 6,
     "metadata": {},
     "output_type": "execute_result"
    }
   ],
   "source": [
    "salida"
   ]
  },
  {
   "cell_type": "code",
   "execution_count": 8,
   "metadata": {},
   "outputs": [],
   "source": [
    "salida = dar_vuelta_texto(texto)"
   ]
  },
  {
   "cell_type": "code",
   "execution_count": 9,
   "metadata": {},
   "outputs": [
    {
     "data": {
      "text/plain": [
       "'dootsrednusimebotsitaergebothselfkootrevetahttiripsesiwdnaerupyrevednanotwendnaoelilagdnasucinrepocdnarehtuldnasusejdnasetarcosdnadootsrednusimsawsarogahtypdootsrednusimebotnehtdabostisidootsrednusimeboterusebllahsuoyoshayadotdiasuoygnihtyrevetcidartnoctihguohtniagasdrowdrahnisknihtworromottahwkaepsworromotdnasdrowdrahniwonknihtuoytahwkaepsllawehtnowodahssihhtiwflesmihnrecnocllewsayamehodotgnihtonylpmissahluostaergaycnetsisnochtiwsenividdnasrehposolihpdnanemsetatselttilybderodasdnimelttilfonilbogbohehtsiycnetsisnochsiloofa'"
      ]
     },
     "execution_count": 9,
     "metadata": {},
     "output_type": "execute_result"
    }
   ],
   "source": [
    "salida"
   ]
  },
  {
   "cell_type": "code",
   "execution_count": null,
   "metadata": {},
   "outputs": [],
   "source": []
  }
 ],
 "metadata": {
  "kernelspec": {
   "display_name": "Python 3",
   "language": "python",
   "name": "python3"
  },
  "language_info": {
   "codemirror_mode": {
    "name": "ipython",
    "version": 3
   },
   "file_extension": ".py",
   "mimetype": "text/x-python",
   "name": "python",
   "nbconvert_exporter": "python",
   "pygments_lexer": "ipython3",
   "version": "3.7.6"
  }
 },
 "nbformat": 4,
 "nbformat_minor": 4
}
