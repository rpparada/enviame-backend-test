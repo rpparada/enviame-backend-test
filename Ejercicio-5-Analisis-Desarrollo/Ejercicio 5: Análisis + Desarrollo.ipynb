{
 "cells": [
  {
   "cell_type": "markdown",
   "metadata": {},
   "source": [
    "# Ejercicio 5: Análisis + Desarrollo\n",
    "La serie de Fibonacci se construye utilizando la siguiente relación de recurrencia: Fn = Fn1 + Fn2, donde F1 = 1 y F2 = 1. Por ende, los primeros doce términos de esta serie son: 1, 1, 2, 3, 5, 8, 13, 21, 34, 55, 89, 144\n",
    "\n",
    "Ahora, consideremos los divisores de estos términos:\n",
    "\n",
    "- 1 = 1\n",
    "- 1 = 1\n",
    "- 2 = 1, 2\n",
    "- 3 = 1, 3\n",
    "- 5  = 1, 5\n",
    "- 8 = 1, 2, 4, 8\n",
    "- 13 = 1, 13\n",
    "- 21 = 1, 3, 7, 21\n",
    "- 34 = 1, 2, 17, 34\n",
    "- 55 = 1, 5, 11, 55\n",
    "- 89 = 1, 89\n",
    "- 144 = 1, 2, 3, 4, 6, 8, 9, 12, 16, 18, 24, 36, 48, 72, 144\n",
    "Como se puede ver, 144 es el primer número de la serie de Fibonacci que tiene más de 10 divisores (de hecho tiene 15). Crea un script en tu lenguaje favorito que obtenga el primer número de Fibonacci que tiene más de 1000 divisores."
   ]
  },
  {
   "cell_type": "markdown",
   "metadata": {},
   "source": [
    "## Se crearon dos funciones\n",
    "- num_div: determina el numero de divisores para numero ingresado retornando la cantidad encontrada\n",
    "- create_fibonacci_list: creador de serie de fibonacci desde 0 al numero limite entregado como parametro de entrada para la busqueda de divisores\n",
    "\n",
    "Lamentablemenet este algoritmo demora mucho en buscar 1000 divisores para un numero de la serie fibonacci. Por lo tanto deje el limite en 100."
   ]
  },
  {
   "cell_type": "code",
   "execution_count": 4,
   "metadata": {},
   "outputs": [],
   "source": [
    "def num_div(num=0):\n",
    "    count = 0\n",
    "    for i in range(1, num + 1):\n",
    "        if num%i == 0:\n",
    "            count += 1\n",
    "    return count"
   ]
  },
  {
   "cell_type": "code",
   "execution_count": 5,
   "metadata": {},
   "outputs": [],
   "source": [
    "def create_fibonacci_list(limit=1):\n",
    "    prev = 0\n",
    "    curr = 1\n",
    "    resultado = 0\n",
    "    count = 0\n",
    "    while True:\n",
    "        aux = curr\n",
    "        curr += prev\n",
    "        prev = aux\n",
    "        resultado = num_div(curr)\n",
    "        count += 1\n",
    "        if count%10 == 0:\n",
    "            print('Revisando numero {} - posicion {} ....'.format(curr, count))\n",
    "        if resultado > limit:\n",
    "            print('Encontrado numero {} tiene {} divisores'.format(curr,resultado))\n",
    "            break"
   ]
  },
  {
   "cell_type": "code",
   "execution_count": 6,
   "metadata": {},
   "outputs": [
    {
     "name": "stdout",
     "output_type": "stream",
     "text": [
      "Revisando numero 89 - posicion 10 ....\n",
      "Revisando numero 10946 - posicion 20 ....\n",
      "Revisando numero 1346269 - posicion 30 ....\n",
      "Encontrado numero 14930352 tiene 160 divisores\n"
     ]
    }
   ],
   "source": [
    "create_fibonacci_list(100)"
   ]
  },
  {
   "cell_type": "code",
   "execution_count": null,
   "metadata": {},
   "outputs": [],
   "source": []
  }
 ],
 "metadata": {
  "kernelspec": {
   "display_name": "Python 3",
   "language": "python",
   "name": "python3"
  },
  "language_info": {
   "codemirror_mode": {
    "name": "ipython",
    "version": 3
   },
   "file_extension": ".py",
   "mimetype": "text/x-python",
   "name": "python",
   "nbconvert_exporter": "python",
   "pygments_lexer": "ipython3",
   "version": "3.9.1"
  }
 },
 "nbformat": 4,
 "nbformat_minor": 4
}
