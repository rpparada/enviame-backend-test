{
 "cells": [
  {
   "cell_type": "markdown",
   "metadata": {},
   "source": [
    "# Ejercicio 6: Análisis + Desarrollo Aplicado a Negocio\n",
    "Desarrolla una función o procedimiento que estime el tiempo de entrega de la entrega de una compra online (en días), en función de la distancia que existe entre una dirección de origen y destino.\n",
    "\n",
    "Suponga que los envíos siempre se despachan desde el mismo origen.\n",
    "\n",
    "Para la determinación de la distancia entre el origen y destino genere números aleatorios entre 0 km y 2.000 km Asuma que el tiempo de despacho está determinado por una sucesión numérica, donde cada N término se relaciona con un incremento en un rango de distancia entre la dirección de origen y de destino como se muesta a continuación.\n",
    "\n",
    "- Rango 1. Menos de 100 km, se entregan el mismo día (Día cero)\n",
    "- Rango 2. Menos de 200 km, se entregan al día siguiente (Día uno)\n",
    "- Rango 3. Menos de 300 km, se entregan al día siguiente (Día uno)\n",
    "- Rango 4. Menos de 400 km, se entregan al día subsiguiente (Día dos)\n",
    "- Rango 5. Menos de 500 km, se entregan al tercer día (Día tres) ...\n",
    "- Rango n. Menos de n km, Los días de entrega se calculan como la suma de los días de entrega de los rangos n–1 y n-2"
   ]
  },
  {
   "cell_type": "markdown",
   "metadata": {},
   "source": [
    "## Para calcular el tiempo de entraga por sobre los 500 se utilizo una funcion recursiva"
   ]
  },
  {
   "cell_type": "code",
   "execution_count": 1,
   "metadata": {},
   "outputs": [],
   "source": [
    "def tiempo_entrega_entrega_dias(distancia):\n",
    "    dias = 0\n",
    "    if distancia < 100:\n",
    "        dias = 0\n",
    "    elif distancia < 200:\n",
    "        dias = 1\n",
    "    elif distancia < 300:\n",
    "        dias = 1\n",
    "    elif distancia < 400:\n",
    "        dias = 2\n",
    "    elif distancia < 500:\n",
    "        dias = 3\n",
    "    else:\n",
    "        n1 = tiempo_entrega_entrega_dias(distancia-100)\n",
    "        n2 = tiempo_entrega_entrega_dias(distancia-200)\n",
    "        dias = n1 + n2\n",
    "    \n",
    "    return dias"
   ]
  },
  {
   "cell_type": "code",
   "execution_count": 2,
   "metadata": {},
   "outputs": [
    {
     "name": "stdout",
     "output_type": "stream",
     "text": [
      "Para distancia 486km la entraga es en 3 dias\n",
      "Para distancia 1277km la entraga es en 144 dias\n",
      "Para distancia 1258km la entraga es en 144 dias\n",
      "Para distancia 739km la entraga es en 13 dias\n",
      "Para distancia 479km la entraga es en 3 dias\n",
      "Para distancia 1398km la entraga es en 233 dias\n",
      "Para distancia 1404km la entraga es en 377 dias\n",
      "Para distancia 394km la entraga es en 2 dias\n",
      "Para distancia 777km la entraga es en 13 dias\n",
      "Para distancia 1043km la entraga es en 55 dias\n"
     ]
    }
   ],
   "source": [
    "import random\n",
    "for x in range(10):\n",
    "    distancia = random.randint(0,2000)\n",
    "    dias = tiempo_entrega_entrega_dias(distancia)\n",
    "    print('Para distancia {}km la entraga es en {} dias'.format(distancia, dias))"
   ]
  },
  {
   "cell_type": "code",
   "execution_count": null,
   "metadata": {},
   "outputs": [],
   "source": []
  }
 ],
 "metadata": {
  "kernelspec": {
   "display_name": "Python 3",
   "language": "python",
   "name": "python3"
  },
  "language_info": {
   "codemirror_mode": {
    "name": "ipython",
    "version": 3
   },
   "file_extension": ".py",
   "mimetype": "text/x-python",
   "name": "python",
   "nbconvert_exporter": "python",
   "pygments_lexer": "ipython3",
   "version": "3.7.6"
  }
 },
 "nbformat": 4,
 "nbformat_minor": 4
}
